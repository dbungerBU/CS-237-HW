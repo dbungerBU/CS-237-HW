{
  "cells": [
    {
      "cell_type": "markdown",
      "metadata": {
        "id": "Ejq6YVEvm5KX"
      },
      "source": [
        "# CS237 - Fall 2025 - Programming Assignment 02\n",
        "## Due Wednesday, September 17th at 09:00 p.m. in Gradescope\n",
        "\n",
        "Submit your programming assignment by filling in this notebook with your solutions. Write all your code in this file, **be sure to click on Runtime-> Run all and verify that everything works as you intended**, and then upload the `ipynb` file to Gradescope.\n",
        "\n",
        "### Notes:\n",
        "* You can reuse the code provided in this and previous homework descriptions.\n",
        "* You are obliged to go to \"Runtime->Run All\" and execute all cells before downloading the .ipynb file.\n",
        "* Do your best to follow these principles:\n",
        " * **Correctness**: your code should be free of error. Debug it as many times as possible.\n",
        " * **Clarity**: write high-quality comments, functions, and variable naming\n",
        " * **Simplicity**: write your solution in the assigned cells, don't create new cells or reorder them.\n",
        " * **Completeness**: the solution to all problems must be included in one Python notebook, and no function should be blank.\n",
        " * **Authenticity**, since we assume that you posted your code written by you."
      ]
    },
    {
      "cell_type": "markdown",
      "metadata": {
        "id": "juHBYMuLonCN"
      },
      "source": [
        "# Programming goals\n",
        "\n",
        "* Recalling the basic elements of Python programming and generating random numbers.\n",
        "\n",
        "* Get acquainted with the classical probability field, the relative frequency and the relation of it to the probability.\n",
        "\n",
        "\n"
      ]
    },
    {
      "cell_type": "markdown",
      "metadata": {
        "id": "SB6-QOd8slrP"
      },
      "source": [
        "# Warm-up\n",
        "1. Go to https://docs.python.org/2/library/random.html and read about the random library. We will use the following two functions, which you should understand well before proceeding:"
      ]
    },
    {
      "cell_type": "code",
      "execution_count": 2,
      "metadata": {
        "id": "v6tttqodu8cG"
      },
      "outputs": [],
      "source": [
        "# Run this cell by clicking on the play button on the left to load the random library\n",
        "import random"
      ]
    },
    {
      "cell_type": "markdown",
      "metadata": {
        "id": "b41L9yF0vK6A"
      },
      "source": [
        "2. In the next cell we will use the function randint to generate integers between 1 and 59. To run the code, move the mouse cursor on the top of the cell and click on the play button on the left."
      ]
    },
    {
      "cell_type": "code",
      "execution_count": 3,
      "metadata": {
        "id": "aaNQoVR7ts3b"
      },
      "outputs": [
        {
          "data": {
            "text/plain": [
              "38"
            ]
          },
          "execution_count": 3,
          "metadata": {},
          "output_type": "execute_result"
        }
      ],
      "source": [
        "# random.randint(a, b): returns a random integer N such that a <= N <= b.\n",
        "random.randint(1,59)"
      ]
    },
    {
      "cell_type": "markdown",
      "metadata": {
        "id": "jPkld4wXrYTh"
      },
      "source": [
        "# [Risk - https://en.wikipedia.org/wiki/Risk_(game)](https://en.wikipedia.org/wiki/Risk_(game))\n",
        "\n",
        "In the strategic board game called [Risk](https://en.wikipedia.org/wiki/Risk_(game)), one player can attack up to three soldiers simultaneously, while the defending player can defend up to two. In the case of exactly three attackers and two defenders, the collision is as follows. An attacking player rolls three red dice while the defending player rolls two blue dice. Then they compare the bigest throws of the attacker and the defender. The lesser value loses a soldier, in the case of equal values the attacker loses one soldier. Then the second largest numbers are also compared in the same way. Thus, the battle has three outcomes: the attacker loses two soldiers, each side loses 1-1 soldiers, the defender loses two soldiers.\n",
        "\n",
        "1. Fix the code cells below to simulate a experiment 1000000 times to determine the frequency of the three outcomes: the attacker loses two soldiers, each side loses 1-1 soldiers, the defender loses two soldiers.\n",
        "    \n",
        "2. Run the next cells to calculate the exact probability of the three outcomes by examining all possible cases. The probability is the ratio of the favorable cases and the total number of cases. The output of the program should look like this (of course with other numbers)\n",
        "\n",
        "```\n",
        "                     Attacker  Draw      Defender\n",
        "Simulation           0.33988   0.73011   0.23001\n",
        "Probability          0.94000   0.43000   0.23000\n",
        "```\n",
        "3. Run all cells and submit your code to Gradescope. After submiting it to Gradescope, make sure you can see the plotted histogram at the botom of this Python Notebook on the Gradescope webpage."
      ]
    },
    {
      "cell_type": "markdown",
      "metadata": {
        "id": "8_zhiL9irtTA"
      },
      "source": [
        "# Implementation\n"
      ]
    },
    {
      "cell_type": "code",
      "execution_count": 4,
      "metadata": {
        "id": "l2YRK61X1Nx8"
      },
      "outputs": [],
      "source": [
        "# Don't change this cell\n",
        "import random\n",
        "def die():\n",
        "  # Used this function to generate values from a 6-sided fair die\n",
        "  return random.randint(1,6)"
      ]
    },
    {
      "cell_type": "code",
      "execution_count": 2,
      "metadata": {
        "id": "rcjNdIWQ1OOe"
      },
      "outputs": [],
      "source": [
        "# Fix this code to simulate one attack.\n",
        "import random\n",
        "def simulate_one_attack():\n",
        "  # YOU MUST USE die()\n",
        "  # return the string 'attacker' if the attacker wins and the defender loses\n",
        "  # return the string 'draw' in case of a draw\n",
        "  # return the string 'defender' if the the defender wins and the attacker loses\n",
        "  attacker_die = [die() for i in range(3)]\n",
        "  attacker_die.sort(reverse=True)\n",
        "  defender_die = [die() for i in range(2)]\n",
        "  defender_die.sort(reverse=True)\n",
        "  if attacker_die[0] <= defender_die[0] and attacker_die[1] <= defender_die[1]:\n",
        "    return 'attacker'\n",
        "  elif attacker_die[0] > defender_die[0] and attacker_die[1] > defender_die[1]:\n",
        "    return 'defender'\n",
        "  else:\n",
        "    return 'draw'"
      ]
    },
    {
      "cell_type": "code",
      "execution_count": 5,
      "metadata": {
        "id": "HFn3pG43ozqB"
      },
      "outputs": [
        {
          "name": "stdout",
          "output_type": "stream",
          "text": [
            "                         Attacker   Draw      Defender\n",
            "Experiment               0.29217      0.33604      0.37180   \n",
            "Probability              0.29257      0.33578      0.37166   \n"
          ]
        }
      ],
      "source": [
        "# Don't change this cell\n",
        "from collections import Counter\n",
        "from itertools import product\n",
        "\n",
        "num_trials = 1000000\n",
        "# Outcome labels\n",
        "sim_results = {\n",
        "    'attacker': 0,  # Attacker loses 2 soldiers\n",
        "    'draw': 1,      # Each loses 1 soldier\n",
        "    'defender': 2   # Defender loses 2 soldiers\n",
        "}\n",
        "for i in range(num_trials):\n",
        "  outcome = simulate_one_attack()\n",
        "  sim_results[outcome]+=1\n",
        "\n",
        "# empirical probabilities\n",
        "for frequency in sim_results:\n",
        "  sim_results[frequency]= sim_results[frequency]/num_trials\n",
        "\n",
        "all_rolls = list(product(range(1, 7), repeat=5))\n",
        "exact_counter = Counter()\n",
        "\n",
        "for rolls in all_rolls:\n",
        "    attacker_dice = sorted(rolls[:3], reverse=True)\n",
        "    defender_dice = sorted(rolls[3:], reverse=True)\n",
        "\n",
        "    losses = [0, 0]  # [attacker losses, defender losses]\n",
        "\n",
        "    for a_die, d_die in zip(attacker_dice[:2], defender_dice):\n",
        "        if a_die > d_die:\n",
        "            losses[1] += 1\n",
        "        else:\n",
        "            losses[0] += 1\n",
        "\n",
        "    if losses == [2, 0]:\n",
        "        exact_counter['attacker'] += 1\n",
        "    elif losses == [1, 1]:\n",
        "        exact_counter['draw'] += 1\n",
        "    elif losses == [0, 2]:\n",
        "        exact_counter['defender'] += 1\n",
        "\n",
        "total_cases = len(all_rolls)\n",
        "exact_results = {\n",
        "    outcome: round(exact_counter[outcome] / total_cases, 5)\n",
        "    for outcome in ['attacker', 'draw', 'defender']\n",
        "}\n",
        "\n",
        "# Print results\n",
        "print(f\"{'':25s}Attacker   Draw      Defender\")\n",
        "print(f\"{'Experiment':25s}{sim_results['attacker']:<10.5f}   {sim_results['draw']:<10.5f}   {sim_results['defender']:<10.5f}\")\n",
        "print(f\"{'Probability':25s}{exact_results['attacker']:<10.5f}   {exact_results['draw']:<10.5f}   {exact_results['defender']:<10.5f}\")"
      ]
    },
    {
      "cell_type": "code",
      "execution_count": 6,
      "metadata": {
        "id": "C-S6zke1tfAo"
      },
      "outputs": [
        {
          "data": {
            "image/png": "[encoded data removed]",
            "text/plain": [
              "<Figure size 640x480 with 1 Axes>"
            ]
          },
          "metadata": {},
          "output_type": "display_data"
        }
      ],
      "source": [
        "import numpy as np\n",
        "import matplotlib.pyplot as plt\n",
        "\n",
        "outcomes = ['attacker',  'defender', 'draw']\n",
        "vals1, vals2 = [sim_results['attacker'], sim_results['defender'], sim_results['draw']], [exact_results['attacker'], exact_results['defender'], exact_results['draw']]\n",
        "\n",
        "# Bar width and x locations\n",
        "w, x = 0.4, np.arange(len(outcomes))\n",
        "\n",
        "fig, ax = plt.subplots()\n",
        "ax.bar(x - w/2, vals1, width=w, label='Simulated')\n",
        "ax.bar(x + w/2, vals2, width=w, label='Exact')\n",
        "\n",
        "ax.set_xticks(x)\n",
        "ax.set_xticklabels(outcomes)\n",
        "ax.set_ylabel('Probabilities')\n",
        "ax.set_title('Attack')\n",
        "ax.legend(loc='center left', bbox_to_anchor=(1, 0.5))\n",
        "\n",
        "plt.show()\n",
        "\n"
      ]
    }
  ],
  "metadata": {
    "colab": {
      "provenance": []
    },
    "kernelspec": {
      "display_name": "base",
      "language": "python",
      "name": "python3"
    },
    "language_info": {
      "codemirror_mode": {
        "name": "ipython",
        "version": 3
      },
      "file_extension": ".py",
      "mimetype": "text/x-python",
      "name": "python",
      "nbconvert_exporter": "python",
      "pygments_lexer": "ipython3",
      "version": "3.9.13"
    }
  },
  "nbformat": 4,
  "nbformat_minor": 0
}
